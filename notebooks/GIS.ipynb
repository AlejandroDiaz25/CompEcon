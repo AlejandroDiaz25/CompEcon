{
 "metadata": {
  "name": ""
 },
 "nbformat": 3,
 "nbformat_minor": 0,
 "worksheets": [
  {
   "cells": [
    {
     "cell_type": "heading",
     "level": 1,
     "metadata": {},
     "source": [
      "Using Geographic Information Systems (GIS) in <a href=\"http://www.qgis.org/\"><img src=\"/files/pics/QGis_Logo.png\" alt=\"QGIS\" style=\"width: 60px;\"/></a>[GIS](http://www.qgis.org/) and <a href=\"http://www.python.org/\"><img src=\"/files/pics/python-logo.png\" alt=\"Python\" /></a>"
     ]
    },
    {
     "cell_type": "heading",
     "level": 2,
     "metadata": {},
     "source": [
      "Geographic Information Systems (GIS)"
     ]
    },
    {
     "cell_type": "markdown",
     "metadata": {},
     "source": [
      "GIS refers to methods of storing, displaying and analyzing geogaphical information. These methods have become essential in economic analysis (as you have noticed from the reading list for our Ph.D. course on economic growth). For this reason, it is good that you acquaint yourself with these methods. They will prove very useful when doing research, especially to show the spatial distribution of your variables of interest, contructing new measures, or doing spatial analysis."
     ]
    },
    {
     "cell_type": "heading",
     "level": 2,
     "metadata": {},
     "source": [
      "Software"
     ]
    },
    {
     "cell_type": "markdown",
     "metadata": {},
     "source": [
      "###Commercial\n",
      "\n",
      "There are various GIS specialized programs and packages. [ESRI](www.esri.com) produces ArcGIS, which is the most known and commonly used commercial software. It is very easy to use to produce maps and do simple computations. Most universities (including ours) offer it in their computer labs. The main disadvantages are that it requires a computer running Windows, it is costly, and extremely slow for computations. \n",
      "\n",
      "For this reason I always suggest you use and learn open-source alternatives\n",
      "\n",
      "###Open Source\n",
      "\n",
      "There are many open source GIS projects, many of which are supported/gathered at <a href=\"http://www.osgeo.org/\"><img src=\"/files/pics/OSGEO-logo.png\" alt=\"GRASS\" style=\"width: 80px;\"/></a>. The most known and widely used seem to be <a href=\"http://grass.osgeo.org/\"><img src=\"/files/pics/Grass-logo.png\" alt=\"GRASS\" style=\"width: 100px;\"/></a> and <a href=\"http://www.qgis.org/\"><img src=\"/files/pics/QGis_Logo.png\" alt=\"QGIS\" style=\"width: 50px;\"/></a>, although Python is increasingly becoming the language of GIS. QGIS can be programmed in Python and many web-based GIS services and databases are programmed in Python. Furthermore, there are many new Python packages which allow you to import, export, analyze, visualize, etc. GIS data. THis notebook will serve as a basic introduction, which I hope to develop further with time. Many of the solutions provded here have been implemented by myself or taken from sources on the web (regretfully I did not keep track from where I took some ideas or snipplets of code, so I cannot provide due credit).\n"
     ]
    },
    {
     "cell_type": "heading",
     "level": 3,
     "metadata": {},
     "source": [
      "Installation"
     ]
    },
    {
     "cell_type": "markdown",
     "metadata": {},
     "source": [
      "Here I will give you the basic idea of what you need to install to have a working GIS environment. I assume you have already installed [Canopy](https://www.enthought.com/products/canopy/academic/) with all the pakages provided by Enthought. Additionally, you will need to install [GRASS](http://grass.osgeo.org), [QGIS](https://www.qgis.org), and [GDAL/OGR](http://www.gdal.org/).\n",
      "\n",
      "###Windows\n",
      "\n",
      "Download the installers in each of these websites and you should be done!\n",
      "\n",
      "###Mac OSX\n",
      "There are various methods of getting these on your computer.\n",
      "\n",
      "   1. Try the installers on each website\n",
      "   2. Use the installers provided by [Kyngchaos](http://www.kyngchaos.com/)\n",
      "   3. Use [HomeBrew](http://brew.sh/)\n",
      "   \n",
      "I used to install using the installers provided by [Kyngchaos](http://www.kyngchaos.com/). But I have moved to using [HomeBrew](http://brew.sh/), which allows you install many other GNU projects. to do so, open a terminal window (I recommend getting [iTerm2](http://www.iterm2.com/), which is more powerful than the one provided by OSX) and run the following code (I think you will need to have Xcode and its command-line utilities installed)\n",
      "\n",
      "    ruby -e \"$(curl -fsSL https://raw.github.com/Homebrew/homebrew/go/install)\"\n",
      "    brew doctor\n",
      "    \n",
      "This should install HomeBrew on your system and let you know of any issues. Once you have done so and have a working homebrew installation, you will be able to install packages and programs using the ``brew install`` command. Before doing so, you should run the following commands\n",
      "\n",
      "    brew update\n",
      "    brew tap homebrew/science\n",
      "    \n",
      " This will update HomeBrew's formulas to the latest version. Now issue the command\n",
      "     \n",
      "     brew install gdal\n",
      "     brew install qgis\n",
      " \n",
      " This will install the latest version of QGIS and its dependencies. Regretfully the HomeBrew version installed is 1.8, while QGIS is already at version 2.x. To install that version you will need to look for solutions on the web. On OS X Mavericks I used the following instructions, as explained in this [unofficial QGIS-2.0 formula](https://github.com/dakcarto/homebrew-osgeo4mac).\n",
      " \n",
      "     brew tap dakcarto/homebrew-osgeo4mac\n",
      "     brew tap homebrew/science\n",
      "     brew install dakcarto/osgeo4mac/qgis-20\n",
      "     brew linkapps\n",
      "     sudo easy_install psycopg2\n",
      "     \n",
      "This should install the required software. I will update this as I know more...\n",
      "\n",
      "###Note on GDAL + Canopy\n",
      "It seems Canopy already has GDAL incorporated, at least so it seems on Mac OS X. But there is a bug that might prevent it from working, unless you add the following line on your .profile\n",
      "\n",
      "     export GDAL_DATA=~/Library/Enthought/Canopy_64bit/User/share/gdal"
     ]
    },
    {
     "cell_type": "heading",
     "level": 2,
     "metadata": {},
     "source": [
      "Data"
     ]
    },
    {
     "cell_type": "markdown",
     "metadata": {},
     "source": [
      "Ok...now that we have a working GIS desktop system, let us talk a little about types of data. All GIS data includes elements with their properties and their geographical information like location, as determined by e.g. latitude and longitude, address, zip code, etc. So, for example an element might be a country, its properties might be GDP per capita, Gini coefficient, etc. and its location. Another example might be a restaurant with its menu and prices, services (dine-in, take-out, delivery), area of service and location. \n",
      "\n",
      "GIS comes in very different formats, althogh most of them can be categorizewd into two types **Rasters** and **Vector** formats. \n",
      "\n",
      "1. Rasters are basically matrices $R=[R_{ij}]$ of size $m\\times n$ that hold numerical information, where each cell $R_{ij}$ shows the value of interest at a specific location $ij$. Where this location $ij$ is, is determined by the actual format and the projection of the data (this will be clearer below). \n",
      "2. Vectors represent a geographical element geometrically and include additional information on it. An element can be represented as one of the following geometries:\n",
      "    1. A point or set of unconnected points\n",
      "    2. A line or set of (un)connected lines\n",
      "    3. A Polygon\n",
      "    4. A set of one or various of the previous types\n",
      "\n",
      "Examples of Raster formats:\n",
      "\n",
      "1. GeoTiff: Multipurpose raster format\n",
      "2. ESRI Grid: Main ESRI raster format\n",
      "3. Digital Elevation Model (DEM): Used by the US Geological Survey to record elevation data\n",
      "4. Band Interleaved by Line, Band Interleaved by Pixel, Band Sequential (BIL, BIP, BSQ): These data formats are typically used by remote sensing systems\n",
      "5. Digital Raster Graphic (DRG): This format is used to store digital scans of paper maps\n",
      "\n",
      "Examples of Vector formats:\n",
      "\n",
      "1. Shapefile: An open specification, developed by ESRI, for storing and exchanging GIS data. A Shapefile actually consists of a collection of files all with the same base name, for example hawaii.shp, hawaii.shx, hawaii.dbf, and so on \n",
      "2. Simple Features: An OpenGIS standard for storing geographical data (points, lines, polygons) along with associated attributes\n",
      "3. TIGER/Line: A text-based format previously used by the U.S. Census Bureau to describe geographic features such as roads, buildings, rivers, and coastlines. More recent data comes in the Shapefile format, so the TIGER/Line format is only used for earlier Census Bureau datasets\n",
      "4. Coverage: Proprietary data format used by ESRI's ARC/INFO system\n",
      "\n",
      "Other formats:\n",
      "\n",
      "1. Well-known Text (WKT): text-based format for representing a single geographic feature such as a polygon or line\n",
      "2. Well-known Binary (WKB): similar to WKT uses binary data rather than text to represent a single geographic feature\n",
      "3. GeoJSON: An open format for encoding geographic data structures, based on the JSON data interchange format"
     ]
    },
    {
     "cell_type": "heading",
     "level": 2,
     "metadata": {},
     "source": [
      "Sources of Data"
     ]
    },
    {
     "cell_type": "markdown",
     "metadata": {},
     "source": [
      "There are many places to find data. Some useful links are:\n",
      "\n",
      "* [WorldMap](http://worldmap.harvard.edu/)\n",
      "* [FAO's GeoNetwork](http://www.fao.org/geonetwork)\n",
      "* [IPUMS USA Boundary files for Censuses](https://usa.ipums.org/usa/volii/boundaries.shtml)\n",
      "* [IPUMS International Boundary files for Censuses](https://international.ipums.org/international/gis.shtml)\n",
      "* [GADM database of Global Administrative Areas](http://www.gadm.org/)\n",
      "* [Global Administrative Unit Layers](http://www.fao.org/geonetwork/srv/en/metadata.show?id=12691)\n",
      "* [Natural Earth](http://www.naturalearthdata.com/): Various vector and raster files with all kinds of geographical, cultural and socioeconomic variables\n",
      "* [Global Map](http://www.iscgm.org/cgi-bin/fswiki/wiki.cgi?page=Summary)\n",
      "* [Digital Chart of the World](http://worldmap.harvard.edu/data/geonode:Digital_Chart_of_the_World)\n",
      "* [Sage](http://www.sage.wisc.edu/mapsdatamodels.html) and [Sage Atlas](http://www.sage.wisc.edu/atlas/maps.php)\n",
      "* [Ramankutti's Datasets on land use, crops, etc.](http://www.geog.mcgill.ca/~nramankutty/Datasets/Datasets.html)\n",
      "* [SEDAC at Columbia Univesrity](http://sedac.ciesin.columbia.edu/data/sets/browse): Gridded Population, Hazzards, etc.\n",
      "* [World Port Index](http://msi.nga.mil/NGAPortal/MSI.portal?_nfpb=true&_pageLabel=msi_portal_page_62&pubCode=0015)\n",
      "* [USGS elevation maps](http://eros.usgs.gov/elevation-products)\n",
      "* [NOOA's Global Land One-km Base Elevation Project (GLOBE)](http://www.ngdc.noaa.gov/mgg/topo/globe.html)\n",
      "* [NOOA Nightlight data](http://ngdc.noaa.gov/eog/download.html): This is the data used by Henderson, Storeygard, and Weil AER 2012 paper.\n",
      "* [Other NOOA Data](http://www.ngdc.noaa.gov/ngdcinfo/onlineaccess.html)\n",
      "* [GEcon](http://gecon.yale.edu/)\n",
      "* [OpenStreetMap](http://openstreetmap.org)\n",
      "* [U.S. Census TIGER](http://www.census.gov/geo/maps-data/data/tiger.html)\n",
      "* [Geo-referencing of Ethnic Groups](http://www.icr.ethz.ch/data/other/greg)\n",
      "\n",
      "See also [Wikipedia links](http://en.wikipedia.org/wiki/List_of_GIS_data_sources)"
     ]
    },
    {
     "cell_type": "heading",
     "level": 2,
     "metadata": {},
     "source": [
      "Creating maps"
     ]
    },
    {
     "cell_type": "markdown",
     "metadata": {},
     "source": [
      "Let us start by creating some simple maps. For this, create a directory called ``mydata`` in your ``$HOME`` directory and download the following datasets and extract them:\n",
      "\n",
      "1. The full GADM shape file [here](http://biogeo.ucdavis.edu/data/gadm2/gadm_v2_shp.zip), since it is large, also download the file for your country of origin.\n",
      "2. [Natural Earth's Populated Places dataset](http://www.naturalearthdata.com/http//www.naturalearthdata.com/download/10m/cultural/ne_10m_populated_places.zip) \n",
      "3. [Ramankutty's Suitability Index](http://www.sage.wisc.edu/atlas/data.php?incdataset=Suitability%20for%20Agriculture)\n",
      "4. [Lights Data for 2012](http://ngdc.noaa.gov/eog/data/web_data/v4composites/F182012.v4.tar)\n",
      "\n",
      "Now, open QGIS. You should see something like this\n",
      "\n",
      "<a href=\"/files/pics/GIS/QGIS-main.png\"><img src=\"/files/pics/GIS/QGIS-main.png\" alt=\"QGIS open\" style=\"width: 1000px;\"/></a>"
     ]
    },
    {
     "cell_type": "markdown",
     "metadata": {},
     "source": [
      "To open a file in QGIS you can:\n",
      "\n",
      "* Use ``Finder`` or ``Windows Explorer`` to navigate to the file and ``double-click`` on it.\n",
      "* Use the ``Layer`` menu in QGIS\n",
      "\n",
      "<a href=\"/files/pics/GIS/QGIS-Layer-menu.png\"><img src=\"/files/pics/GIS/QGIS-Layer-menu.png\" alt=\"QGIS Layer Menu\" style=\"width: 1000px;\"/></a>\n",
      "\n",
      "* Use the toolbar on the left\n",
      "\n",
      "<a href=\"/files/pics/GIS/QGIS-file-toolbar.png\"><img src=\"/files/pics/GIS/QGIS-file-toolbar.png\" alt=\"QGIS File Toolbar\" style=\"width: 20px;\"/></a>\n"
     ]
    },
    {
     "cell_type": "heading",
     "level": 2,
     "metadata": {},
     "source": [
      "Working with vector layers"
     ]
    },
    {
     "cell_type": "markdown",
     "metadata": {},
     "source": [
      "Let's start by adding the vector file for your country of origin using the ``add vector layer`` button in the toolbar.\n",
      "\n",
      "<a href=\"/files/pics/GIS/QGIS-add-vector-layer.png\"><img src=\"/files/pics/GIS/QGIS-add-vector-layer.png\" alt=\"QGIS add vector layer\" style=\"width: 1000px;\"/></a>"
     ]
    },
    {
     "cell_type": "markdown",
     "metadata": {},
     "source": [
      "I have added the full GADM dataset, so it looks like this\n",
      "\n",
      "<a href=\"/files/pics/GIS/QGIS-GADM.png\"><img src=\"/files/pics/GIS/QGIS-GADM.png\" alt=\"GADM layer in QGIS\" style=\"width: 1000px;\"/></a>"
     ]
    },
    {
     "cell_type": "markdown",
     "metadata": {},
     "source": [
      "Now we can use various tools available within QGIS to learn about the data, select the data, analyze the data, etc.\n",
      "\n",
      "1. The handtool for panning: <a href=\"/files/pics/GIS/QGIS-handtool.png\"><img src=\"/files/pics/GIS/QGIS-handtool.png\" alt=\"QGIS-handtool\" /></a>\n",
      "2. Zoom in/out/to selection/full: <a href=\"/files/pics/GIS/QGIS-zoom-toolbar.png\"><img src=\"/files/pics/GIS/QGIS-zoom-toolbar.png\" alt=\"QGIS-Zoom\" /></a>\n",
      "3. Identify Features: <a href=\"/files/pics/GIS/QGIS-identify-features.png\"><img src=\"/files/pics/GIS/QGIS-identify-features.png\" alt=\"QGIS-identify-features\" /></a>\n",
      "4. Select Features: <a href=\"/files/pics/GIS/QGIS-select-features.png\"><img src=\"/files/pics/GIS/QGIS-select-features.png\" alt=\"QGIS-select-features\" /></a>\n",
      "\n",
      "Besides the geometrical information that we observe, most Shape files have other information relating to each feature. This information is contained in the *Attribute Table*, which can be accessed with \n",
      "\n",
      "* the ``Open Attribute Table`` button <a href=\"/files/pics/GIS/QGIS-attribute-table.png\"><img src=\"/files/pics/GIS/QGIS-attribute-table.png\" alt=\"QGIS-attribute-table\" /></a>\n",
      "* By ``right-clicking`` on the name of the layer in the left panel\n",
      "\n",
      "<a href=\"/files/pics/GIS/QGIS-attribute-table2.png\"><img src=\"/files/pics/GIS/QGIS-attribute-table2.png\" alt=\"QGIS-attribute-table2\" /></a>\n",
      "\n",
      "Doing so shows you the additional information contained in the shape file. For the GADM file it includes \n",
      "\n",
      "* the identification number of the feature ``OBJECTID``\n",
      "* the identification number of the country (Administrative Level 0) to which the feature belongs ``ID_0``\n",
      "* the ISO-3 code of the country to which the feature belongs ``ISO``\n",
      "* the name of the country to which the feature belongs ``NAME_0``\n",
      "* the identification number of the region in the country (Administrative Level 1) to which the feature belongs ``ID_1``\n",
      "\n",
      "etc.\n",
      "\n",
      "<a href=\"/files/pics/GIS/QGIS-attribute-table3.png\"><img src=\"/files/pics/GIS/QGIS-attribute-table3.png\" alt=\"QGIS-attribute-table3\" /></a>"
     ]
    },
    {
     "cell_type": "markdown",
     "metadata": {},
     "source": [
      "Other important tools can be found in ``Layer -> Properties`` or by ``double-clicking`` on the layer's name\n",
      "\n"
     ]
    },
    {
     "cell_type": "heading",
     "level": 2,
     "metadata": {},
     "source": [
      "Vector Menu"
     ]
    },
    {
     "cell_type": "markdown",
     "metadata": {},
     "source": [
      "The ``Vector`` menu has many tools that can be applied to vector layers. Let's use some of these to create new layers.\n",
      "\n",
      "Using the ``Vector -> Geometry Tools -> Singlepart to Mutliparts`` we can generate a new layer and shape file where features are aggregated according to some characteristic. Let us use this tool to aggregate administrative level 2 features to the administrative level 0 (Country) level. Thus,  each feature will be a country (administrative level 0) instead of the current administrative level 2.\n",
      "\n",
      "<a href=\"/files/pics/GIS/QGIS-SinglePart-MultiPart.png\"><img src=\"/files/pics/GIS/QGIS-SinglePart-MultiPart.png\" alt=\"QGIS-SinglePart-MultiPart\" /></a>"
     ]
    },
    {
     "cell_type": "markdown",
     "metadata": {},
     "source": [
      "Using the ``Vector -> Geometry Tools -> Mutliparts to singlepart`` we can generate a new layer and shape file where features are disaggregated.\n",
      "\n",
      "<a href=\"/files/pics/GIS/QGIS-MultiPart-SinglePart.png\"><img src=\"/files/pics/GIS/QGIS-MultiPart-SinglePart.png\" alt=\"QGIS-MultiPart-SinglePart\" /></a>"
     ]
    },
    {
     "cell_type": "heading",
     "level": 3,
     "metadata": {},
     "source": [
      "Exercises"
     ]
    },
    {
     "cell_type": "markdown",
     "metadata": {},
     "source": [
      "1. Load the Populated Places data.\n",
      "2. Select the cities that blong to your country and create a new shape file with the selection\n",
      "3. Compute the centroid for each Adminitrative level 1 in your country and export the layer\n",
      "4. Compute the distance between the centroid and the most populated places\n",
      "5. Compute the distance matrix among the most populated places\n",
      "6. Compute the distance matrix between most populated places and the centroids\n",
      "\n",
      "####Note\n",
      "\n",
      "Make sure you can correctly identify the features. For example using ISO codes, ID numbers, etc. If the shape file does not have an ID identifier, it is best to create one, so that you can correctly identify the features. To do so, use the ``Field Calculator`` by double-clicking on the name of the layer, then choosing ``Fileds``. After that you need to select the pencil icon to enable editing mode."
     ]
    },
    {
     "cell_type": "heading",
     "level": 2,
     "metadata": {},
     "source": [
      "Working with Rasters"
     ]
    },
    {
     "cell_type": "markdown",
     "metadata": {},
     "source": [
      "Let us load the Ramankutty raster using the ``add raster layer`` button in the toolbar.\n",
      "\n",
      "<a href=\"/files/pics/GIS/QGIS-add-raster-layer.png\"><img src=\"/files/pics/GIS/QGIS-add-raster-layer.png\" alt=\"QGIS add raster layer\" style=\"width: 1000px;\"/></a>\n",
      "\n",
      "``Double-click`` on the name of the raster in order to change the coloring scheme.\n",
      "\n",
      "<a href=\"/files/pics/GIS/QGIS-raster-color-scheme.png\"><img src=\"/files/pics/GIS/QGIS-raster-color-scheme.png\" alt=\"QGIS-raster-color-scheme\" style=\"width: 1000px;\"/></a>\n",
      "\n",
      "So it looks something like this\n",
      "\n",
      "<a href=\"/files/pics/GIS/QGIS-raster-with-color.png\"><img src=\"/files/pics/GIS/QGIS-raster-with-color.png\" alt=\"QGIS-raster-with-color\" style=\"width: 1000px;\"/></a>\n",
      "\n"
     ]
    }
   ],
   "metadata": {}
  }
 ]
}