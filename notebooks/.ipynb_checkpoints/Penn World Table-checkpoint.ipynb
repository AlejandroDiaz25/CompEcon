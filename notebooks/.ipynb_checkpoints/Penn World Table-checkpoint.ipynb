{
 "metadata": {
  "name": "",
  "signature": "sha256:ba75e8a28be10df3752c7f038f9fa231ed713dbb324c4beeb846debdf830f068"
 },
 "nbformat": 3,
 "nbformat_minor": 0,
 "worksheets": [
  {
   "cells": [
    {
     "cell_type": "code",
     "collapsed": false,
     "input": [
      "from __future__ import division\n",
      "%pylab --no-import-all\n",
      "%matplotlib inline\n",
      "import pandas as pd"
     ],
     "language": "python",
     "metadata": {},
     "outputs": [
      {
       "output_type": "stream",
       "stream": "stdout",
       "text": [
        "Using matplotlib backend: MacOSX\n",
        "Populating the interactive namespace from numpy and matplotlib\n"
       ]
      }
     ],
     "prompt_number": 1
    },
    {
     "cell_type": "code",
     "collapsed": false,
     "input": [
      "df=pd.read_excel('http://www.rug.nl/research/ggdc/data/pwt/v80/pwt80.xlsx',sheetname=1)\n",
      "dfpwt=pd.read_excel('http://www.rug.nl/research/ggdc/data/pwt/v80/pwt80.xlsx',sheetname=2)"
     ],
     "language": "python",
     "metadata": {},
     "outputs": [],
     "prompt_number": 2
    },
    {
     "cell_type": "code",
     "collapsed": false,
     "input": [],
     "language": "python",
     "metadata": {},
     "outputs": []
    }
   ],
   "metadata": {}
  }
 ]
}