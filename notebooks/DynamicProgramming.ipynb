{
 "metadata": {
  "name": ""
 },
 "nbformat": 3,
 "nbformat_minor": 0,
 "worksheets": [
  {
   "cells": [
    {
     "cell_type": "heading",
     "level": 1,
     "metadata": {},
     "source": [
      "Introduction to Dynamic Programming"
     ]
    },
    {
     "cell_type": "markdown",
     "metadata": {},
     "source": [
      "We have studied the theory of dynamic programming in discrete time under certainty. Let's review what we know so far, so that we can start thinking about how to take to the computer."
     ]
    },
    {
     "cell_type": "heading",
     "level": 2,
     "metadata": {},
     "source": [
      "The Problem"
     ]
    },
    {
     "cell_type": "markdown",
     "metadata": {},
     "source": [
      "We want to find a sequence $\\{x_t\\}_{t=0}^\\infty$ and a function $V^*:X\\to\\mathbb{R}$ such that \n",
      "\n",
      "$$\\hspace{5cm} V^{\\ast}\\left(x_{0}\\right)=\\sup\\limits _{\\left\\{ x_{t}\\right\\} _{t=0}^{\\infty}}\\sum\\limits _{t=0}^{\\infty}\\beta^{t}U(x_{t},x_{t+1})$$ \n",
      "\n",
      "subject to $x_{t+1}\\in G(x_{t})\\subseteq X\\subseteq\\mathbb{R}^K$, for all $t\\geq0$ and $x_0\\in\\mathbb{R}$ given. We assume $\\beta\\in(0,1)$.\n",
      "\n",
      "We have seen that we can analyze this problem by solving instead the related problem \n",
      "\n",
      "$$\\hspace{5cm} V(x)=\\sup\\limits _{y\\in G(x)}\\left\\{ U(x,y)+\\beta V(y)\\right\\} ,\\text{ for all }x\\in X.$$"
     ]
    },
    {
     "cell_type": "heading",
     "level": 2,
     "metadata": {},
     "source": [
      "Basic Results"
     ]
    },
    {
     "cell_type": "heading",
     "level": 3,
     "metadata": {},
     "source": [
      "Assumptions"
     ]
    },
    {
     "cell_type": "markdown",
     "metadata": {},
     "source": [
      "1. $G\\left(x\\right)$  is nonempty for all $x\\in X$ ; and for all $x_{0}\\in X$  and $\\mathbf{x}\\in \\Phi (x_{0})$, $\\lim\\nolimits_{n\\rightarrow\\infty}\\sum_{t=0}^{n}\\beta^{t}U(x_{t},x_{t+1})$ exists and is finite.\n",
      "\n",
      "2. $X$  is a compact subset of $\\mathbb{R}^{K}$, $G$ is nonempty, compact-valued and continuous. Moreover, $U:\\mathbf{X}_{G}\\rightarrow\\mathbb{R}$  is continuous, where $\\mathbf{X}_{G}=\\left\\{ (x,y)\\in X\\times X:y\\in G(x)\\right\\}$\n",
      "\n",
      "3. $U$ is strictly concave and $G$  is convex\n",
      "\n",
      "4. For each $y\\in X$, $U(\\cdot,y)$  is strictly increasing in each of its first $K$  arguments, and $G$  is monotone in the sense that $x\\leq x^{\\prime}$  implies $G(x)\\subset G(x^{\\prime})$.\n",
      "\n",
      "5. $U$  is continuously differentiable on the interior of its domain $\\mathbf{X}_{G}$.\n",
      "\n",
      "6. Let $\\Phi (x_{t})=\\{\\{x_{s}\\}_{s=t}^{\\infty}:x_{s+1}\\in G(x_{s})\\text{, for }s=t,t+1,...\\}$ and assume that $\\lim_{t\\rightarrow\\infty}\\beta^{t}V\\left(x_{t}\\right)=0$  for all $\\left(x,x_{1},x_{2},...\\right)\\in \\Phi (x)$.\n",
      "\n",
      "If all of these conditions are satisfied, then we have the following"
     ]
    },
    {
     "cell_type": "heading",
     "level": 3,
     "metadata": {},
     "source": [
      "Theorem"
     ]
    },
    {
     "cell_type": "markdown",
     "metadata": {},
     "source": [
      "*There exists a unique (value) function $V^*(x_0)=V(x_0)$, which is continuous, strictly increasing, strictly concave, and differentiable. Also, there exists a unique path $\\{x^*_t\\}_{t=0}^\\infty$, which starting from the given $x_0$ attains the value $V^*(x_0)$. The path can be found through a unique continuous policy function $\\pi: X\\to X$ such that $x^*_{t+1}=\\pi(x^*_t)$. *"
     ]
    },
    {
     "cell_type": "heading",
     "level": 2,
     "metadata": {},
     "source": [
      "Taking it to the computer"
     ]
    },
    {
     "cell_type": "markdown",
     "metadata": {},
     "source": [
      "Ok. Now that we know the conditions for the existence and uniqueness (plus other characteristics) of our problem, how do we go about solving it?\n",
      "\n",
      "The idea is going to be simple and is based on what we saw when we proved the contraction mapping theorem and the proof of the previous theorem (Yes I know...we split this in various steps and intermediate results, which might have confused you). \n",
      "\n",
      "Remember that our Bellman Operator $T: C(X)\\to C(X)$ defined as \n",
      "\n",
      "$$\\hspace{6cm} T(V(x))\\equiv\\sup\\limits _{y\\in G(x)}\\left\\{ U(x,y)+\\beta V(y)\\right\\}$$\n",
      "\n",
      "assigns a continuous, strictly increasing, strictly concave function $T(V)$ to each continuous, increasing, and concave function $V$ defined on $X$. Since $T(V)$ is a contraction mapping, we know that if $V_0$ is any initial continuous, increasing, and concave function defined on $X$, then $T^n(V_0)\\to V^*$. This is precisely what we are going to do using the computer (well we will also do it by hand for a couple of examples)."
     ]
    },
    {
     "cell_type": "heading",
     "level": 3,
     "metadata": {},
     "source": [
      "A first example"
     ]
    },
    {
     "cell_type": "markdown",
     "metadata": {},
     "source": [
      "Assume we want to solve the following finite dimensional problem. \n",
      "\n",
      "An apple farmer wants to maximize her discounted sum of utilities from consuming special non-peroshable apples. She owns only one tree which each period produces $y_t\\in\\{0,1,\\ldots,ymax\\}=\\{y^i\\}_{i=0}^N$ apples, where $y_t=y^i$ with probability $p^i$. Each period she has to decide how many apples to pick and consume. If \n",
      "\n",
      "two choices, it can leave the market and make zero profits that period or stay and get a profit $\\pi$. If the firm stays in the market it must take the same decision next period. If it exits in one period it can never return."
     ]
    },
    {
     "cell_type": "heading",
     "level": 3,
     "metadata": {},
     "source": [
      "Value function iteration"
     ]
    },
    {
     "cell_type": "markdown",
     "metadata": {},
     "source": [
      "So, now that we have a strategy to tackle the problem, and you have learned some basic Python at [Code Academy](http://codeacademy.com) and IPython in our other [notebook](https://github.com/ozak/CompEcon/blob/master/notebooks/IntroPython.ipynb), we are ready to write some code and do some dynamic economic analysis.\n",
      "\n",
      "But before we start, there is one issue I want to highlight. Notice that our state space $X$ is not assumed to be finite, and clearly the fact that our functions are continuous imply that we cannot be in a finite problem. So how do we represent such an infinite object in a computer, which only has finite memory? The solution is to take an approximation to the function, what Stachurski (2009) calls a fitted function. There are various methods to approximate functions (see Judd (1998) for an excellent presentation). The simplest method is a linear interpolation, which is what we will use here. \n",
      "\n",
      "The idea behind linear interpolation is quite simple. Assume we want to approximate the function $V: X\\to X$, $X\\subseteq\\mathbb{R}$. The only thing we need is a finite set $\\{x_i\\}_{i=0}^N\\subseteq X$ for which we compute the value under $V$, i.e. we create the finite set of values $\\{V_i=V(x_i)\\}_{i=0}^N$. Then our approximate function $V$, $\\hat V$, will be defined as\n",
      "\n",
      "$$\\hspace{5cm} \\hat V(x)=V_{i-1}+\\frac{V_i-V_{i-1}}{x_i-x_{i-1}}(x-x_{i-1}) \\quad\\text{ if } x_{i-1}\\le x < x_i.$$\n",
      "\n",
      "In principle we could construct our own interpolation function, but [Scipy](http://www.scipy.org/) has already optimized approximation algorithms, so let's use that package instead. Let's see what a linear interpolation of $\\sin(x)$ would look like."
     ]
    },
    {
     "cell_type": "code",
     "collapsed": false,
     "input": [
      "from __future__ import division\n",
      "%pylab --no-import-all\n",
      "%matplotlib inline\n",
      "from scipy import interp\n"
     ],
     "language": "python",
     "metadata": {},
     "outputs": []
    },
    {
     "cell_type": "code",
     "collapsed": false,
     "input": [
      "interp?"
     ],
     "language": "python",
     "metadata": {},
     "outputs": []
    },
    {
     "cell_type": "code",
     "collapsed": false,
     "input": [
      "x=np.linspace(0,np.pi,100)\n",
      "plt.figure(1)\n",
      "plt.plot(x,np.sin(x),label='Actual Function')\n",
      "for  i in np.arange(3,11,2):\n",
      "    plt.figure(1)\n",
      "    xp=np.linspace(0,np.pi,i)\n",
      "    yp=np.sin(xp)\n",
      "    y=interp(x,xp,yp)\n",
      "    plt.plot(x,y,label='Interpolation '+str(i))\n",
      "    plt.figure(2)\n",
      "    plt.title('Error with up to '+str(i)+' points in interpolation')\n",
      "    plt.ylabel('Error')\n",
      "    plt.plot(y-np.sin(x),label=str(i))\n",
      "    plt.legend(loc=8)\n",
      "plt.figure(1)\n",
      "plt.legend(loc=8)\n",
      "plt.show()"
     ],
     "language": "python",
     "metadata": {},
     "outputs": []
    },
    {
     "cell_type": "markdown",
     "metadata": {},
     "source": [
      "Clearly the more points we have the better our approximation. But, more points means more computations and more time to get those approximations. Since we will be iterating over approximations, we might not want to use too many points, but be smart about the choice of points or we might want to use less points for a start and then increase the number of points once we have a good candidate solution to our fixed point problem."
     ]
    }
   ],
   "metadata": {}
  }
 ]
}